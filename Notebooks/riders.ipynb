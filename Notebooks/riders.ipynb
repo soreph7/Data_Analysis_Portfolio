# Caso práctico: ¿Cómo lograr el éxito rápido de un negocio de bicicletas compartidas?

La empresa de bicicletas compartidas Cyclistic, dirigida por la emprendedora Lily Moreno, me encomendó la tarea de saber **¿En qué se diferencian los socios anuales y los ciclistas ocasionales con respecto al uso de las bicicletas de Cyclistic?**
